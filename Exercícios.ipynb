{
 "cells": [
  {
   "cell_type": "code",
   "execution_count": 1,
   "id": "02cbd4b4",
   "metadata": {},
   "outputs": [],
   "source": [
    "import pandas as pd\n",
    "import numpy as np\n",
    "import matplotlib.pyplot as plt"
   ]
  },
  {
   "cell_type": "code",
   "execution_count": 123,
   "id": "23f6c2c5",
   "metadata": {},
   "outputs": [],
   "source": [
    "df_2007 = pd.read_csv(\"mls-salaries-2007.csv\")\n",
    "df_2008 = pd.read_csv(\"mls-salaries-2008.csv\")\n",
    "df_2009 = pd.read_csv(\"mls-salaries-2009.csv\")\n",
    "df_2010 = pd.read_csv(\"mls-salaries-2010.csv\")\n",
    "df_2011 = pd.read_csv(\"mls-salaries-2011.csv\")\n",
    "df_2012 = pd.read_csv(\"mls-salaries-2012.csv\")\n",
    "df_2013 = pd.read_csv(\"mls-salaries-2013.csv\")\n",
    "df_2014 = pd.read_csv(\"mls-salaries-2014.csv\")\n",
    "df_2015 = pd.read_csv(\"mls-salaries-2015.csv\")\n",
    "df_2016 = pd.read_csv(\"mls-salaries-2016.csv\")\n",
    "df_2017 = pd.read_csv(\"mls-salaries-2017.csv\")\n",
    "df_2007['Ano'] = 2007\n",
    "df_2008['Ano'] = 2008\n",
    "df_2009['Ano'] = 2009\n",
    "df_2010['Ano'] = 2010\n",
    "df_2011['Ano'] = 2011\n",
    "df_2012['Ano'] = 2012\n",
    "df_2013['Ano'] = 2013\n",
    "df_2014['Ano'] = 2014\n",
    "df_2015['Ano'] = 2015\n",
    "df_2016['Ano'] = 2016\n",
    "df_2017['Ano'] = 2017\n",
    "df_total = pd.concat([df_2007,df_2008,df_2009,df_2010,df_2011,df_2012,df_2013,df_2014,df_2015,df_2016,df_2017])\n",
    "df_inflacao = pd.read_excel(\"inflação.xlsx\")"
   ]
  },
  {
   "cell_type": "code",
   "execution_count": 124,
   "id": "a33d7474",
   "metadata": {},
   "outputs": [
    {
     "data": {
      "text/html": [
       "<div>\n",
       "<style scoped>\n",
       "    .dataframe tbody tr th:only-of-type {\n",
       "        vertical-align: middle;\n",
       "    }\n",
       "\n",
       "    .dataframe tbody tr th {\n",
       "        vertical-align: top;\n",
       "    }\n",
       "\n",
       "    .dataframe thead th {\n",
       "        text-align: right;\n",
       "    }\n",
       "</style>\n",
       "<table border=\"1\" class=\"dataframe\">\n",
       "  <thead>\n",
       "    <tr style=\"text-align: right;\">\n",
       "      <th></th>\n",
       "      <th>Ano</th>\n",
       "      <th>MLS Cup</th>\n",
       "      <th>MLS Supporters' Shield</th>\n",
       "      <th>U.S. Open Cup *</th>\n",
       "    </tr>\n",
       "  </thead>\n",
       "  <tbody>\n",
       "    <tr>\n",
       "      <th>0</th>\n",
       "      <td>2007</td>\n",
       "      <td>HOU</td>\n",
       "      <td>DC</td>\n",
       "      <td>NE</td>\n",
       "    </tr>\n",
       "    <tr>\n",
       "      <th>1</th>\n",
       "      <td>2008</td>\n",
       "      <td>CLB</td>\n",
       "      <td>CLB</td>\n",
       "      <td>DC</td>\n",
       "    </tr>\n",
       "    <tr>\n",
       "      <th>2</th>\n",
       "      <td>2009</td>\n",
       "      <td>RSL</td>\n",
       "      <td>CLB</td>\n",
       "      <td>SEA</td>\n",
       "    </tr>\n",
       "    <tr>\n",
       "      <th>3</th>\n",
       "      <td>2010</td>\n",
       "      <td>COL</td>\n",
       "      <td>LA</td>\n",
       "      <td>SEA</td>\n",
       "    </tr>\n",
       "    <tr>\n",
       "      <th>4</th>\n",
       "      <td>2011</td>\n",
       "      <td>LA</td>\n",
       "      <td>LA</td>\n",
       "      <td>SEA</td>\n",
       "    </tr>\n",
       "    <tr>\n",
       "      <th>5</th>\n",
       "      <td>2012</td>\n",
       "      <td>LA</td>\n",
       "      <td>SJ</td>\n",
       "      <td>KC</td>\n",
       "    </tr>\n",
       "    <tr>\n",
       "      <th>6</th>\n",
       "      <td>2013</td>\n",
       "      <td>KC</td>\n",
       "      <td>NYRB</td>\n",
       "      <td>DC</td>\n",
       "    </tr>\n",
       "    <tr>\n",
       "      <th>7</th>\n",
       "      <td>2014</td>\n",
       "      <td>LA</td>\n",
       "      <td>SEA</td>\n",
       "      <td>SEA</td>\n",
       "    </tr>\n",
       "    <tr>\n",
       "      <th>8</th>\n",
       "      <td>2015</td>\n",
       "      <td>POR</td>\n",
       "      <td>NYRB</td>\n",
       "      <td>KC</td>\n",
       "    </tr>\n",
       "    <tr>\n",
       "      <th>9</th>\n",
       "      <td>2016</td>\n",
       "      <td>SEA</td>\n",
       "      <td>DAL</td>\n",
       "      <td>DAL</td>\n",
       "    </tr>\n",
       "    <tr>\n",
       "      <th>10</th>\n",
       "      <td>2017</td>\n",
       "      <td>TOR</td>\n",
       "      <td>TOR</td>\n",
       "      <td>KC</td>\n",
       "    </tr>\n",
       "  </tbody>\n",
       "</table>\n",
       "</div>"
      ],
      "text/plain": [
       "     Ano MLS Cup MLS Supporters' Shield U.S. Open Cup *\n",
       "0   2007     HOU                     DC              NE\n",
       "1   2008     CLB                    CLB              DC\n",
       "2   2009     RSL                    CLB             SEA\n",
       "3   2010     COL                     LA             SEA\n",
       "4   2011      LA                     LA             SEA\n",
       "5   2012      LA                     SJ              KC\n",
       "6   2013      KC                   NYRB              DC\n",
       "7   2014      LA                    SEA             SEA\n",
       "8   2015     POR                   NYRB              KC\n",
       "9   2016     SEA                    DAL             DAL\n",
       "10  2017     TOR                    TOR              KC"
      ]
     },
     "execution_count": 124,
     "metadata": {},
     "output_type": "execute_result"
    }
   ],
   "source": [
    "df_campeoes = pd.read_excel(\"campeoes mls.xlsx\")\n",
    "df_campeoes.replace([\"Los Angeles Galaxy\",'DC United','Real Salt Lake',\n",
    "                     'New England Revolution','Seattle Sounders FC','Houston Dynamo',\n",
    "                    'San Jose Earthquakes','Sporting Kansas City','Columbus Crew','Seattle Sounders',\n",
    "                     'New York Red Bulls','D.C. United','Colorado Rapids','FC Dallas','Portland Timbers','Toronto FC'],\n",
    "                 ['LA','DC','RSL','NE','SEA','HOU','SJ','KC','CLB','SEA','NYRB','DC','COL','DAL','POR','TOR'],inplace=True)\n",
    "\n",
    "df_campeoes"
   ]
  },
  {
   "cell_type": "code",
   "execution_count": 3,
   "id": "3275100a",
   "metadata": {},
   "outputs": [],
   "source": [
    "df_acumulado = df_total.groupby(\"Ano\").sum()['base_salary'].reset_index()\n",
    "df_acumulado['Diferença'] = df_acumulado.pct_change()['base_salary']"
   ]
  },
  {
   "cell_type": "code",
   "execution_count": 4,
   "id": "61cc57e3",
   "metadata": {},
   "outputs": [
    {
     "data": {
      "text/html": [
       "<div>\n",
       "<style scoped>\n",
       "    .dataframe tbody tr th:only-of-type {\n",
       "        vertical-align: middle;\n",
       "    }\n",
       "\n",
       "    .dataframe tbody tr th {\n",
       "        vertical-align: top;\n",
       "    }\n",
       "\n",
       "    .dataframe thead th {\n",
       "        text-align: right;\n",
       "    }\n",
       "</style>\n",
       "<table border=\"1\" class=\"dataframe\">\n",
       "  <thead>\n",
       "    <tr style=\"text-align: right;\">\n",
       "      <th></th>\n",
       "      <th>Ano</th>\n",
       "      <th>base_salary</th>\n",
       "      <th>Diferença</th>\n",
       "    </tr>\n",
       "  </thead>\n",
       "  <tbody>\n",
       "    <tr>\n",
       "      <th>0</th>\n",
       "      <td>2007</td>\n",
       "      <td>3.847833e+07</td>\n",
       "      <td>NaN</td>\n",
       "    </tr>\n",
       "    <tr>\n",
       "      <th>1</th>\n",
       "      <td>2008</td>\n",
       "      <td>4.292950e+07</td>\n",
       "      <td>0.115680</td>\n",
       "    </tr>\n",
       "    <tr>\n",
       "      <th>2</th>\n",
       "      <td>2009</td>\n",
       "      <td>4.689920e+07</td>\n",
       "      <td>0.092470</td>\n",
       "    </tr>\n",
       "    <tr>\n",
       "      <th>3</th>\n",
       "      <td>2010</td>\n",
       "      <td>6.410895e+07</td>\n",
       "      <td>0.366952</td>\n",
       "    </tr>\n",
       "    <tr>\n",
       "      <th>4</th>\n",
       "      <td>2011</td>\n",
       "      <td>7.499108e+07</td>\n",
       "      <td>0.169744</td>\n",
       "    </tr>\n",
       "    <tr>\n",
       "      <th>5</th>\n",
       "      <td>2012</td>\n",
       "      <td>8.649280e+07</td>\n",
       "      <td>0.153375</td>\n",
       "    </tr>\n",
       "    <tr>\n",
       "      <th>6</th>\n",
       "      <td>2013</td>\n",
       "      <td>8.480920e+07</td>\n",
       "      <td>-0.019465</td>\n",
       "    </tr>\n",
       "    <tr>\n",
       "      <th>7</th>\n",
       "      <td>2014</td>\n",
       "      <td>1.166924e+08</td>\n",
       "      <td>0.375940</td>\n",
       "    </tr>\n",
       "    <tr>\n",
       "      <th>8</th>\n",
       "      <td>2015</td>\n",
       "      <td>1.517671e+08</td>\n",
       "      <td>0.300574</td>\n",
       "    </tr>\n",
       "    <tr>\n",
       "      <th>9</th>\n",
       "      <td>2016</td>\n",
       "      <td>1.610863e+08</td>\n",
       "      <td>0.061405</td>\n",
       "    </tr>\n",
       "    <tr>\n",
       "      <th>10</th>\n",
       "      <td>2017</td>\n",
       "      <td>1.829383e+08</td>\n",
       "      <td>0.135654</td>\n",
       "    </tr>\n",
       "  </tbody>\n",
       "</table>\n",
       "</div>"
      ],
      "text/plain": [
       "     Ano   base_salary  Diferença\n",
       "0   2007  3.847833e+07        NaN\n",
       "1   2008  4.292950e+07   0.115680\n",
       "2   2009  4.689920e+07   0.092470\n",
       "3   2010  6.410895e+07   0.366952\n",
       "4   2011  7.499108e+07   0.169744\n",
       "5   2012  8.649280e+07   0.153375\n",
       "6   2013  8.480920e+07  -0.019465\n",
       "7   2014  1.166924e+08   0.375940\n",
       "8   2015  1.517671e+08   0.300574\n",
       "9   2016  1.610863e+08   0.061405\n",
       "10  2017  1.829383e+08   0.135654"
      ]
     },
     "execution_count": 4,
     "metadata": {},
     "output_type": "execute_result"
    }
   ],
   "source": [
    "df_acumulado"
   ]
  },
  {
   "cell_type": "code",
   "execution_count": 5,
   "id": "0c8b2b8a",
   "metadata": {},
   "outputs": [
    {
     "data": {
      "text/plain": [
       "0     2007\n",
       "1     2008\n",
       "2     2009\n",
       "3     2010\n",
       "4     2011\n",
       "5     2012\n",
       "6     2013\n",
       "7     2014\n",
       "8     2015\n",
       "9     2016\n",
       "10    2017\n",
       "Name: Ano, dtype: int64"
      ]
     },
     "execution_count": 5,
     "metadata": {},
     "output_type": "execute_result"
    }
   ],
   "source": [
    "df_acumulado['Ano']"
   ]
  },
  {
   "cell_type": "code",
   "execution_count": 6,
   "id": "04514c9a",
   "metadata": {},
   "outputs": [
    {
     "data": {
      "text/plain": [
       "0     0.0408\n",
       "1     0.0009\n",
       "2     0.0272\n",
       "3     0.0150\n",
       "4     0.0296\n",
       "5     0.0174\n",
       "6     0.0150\n",
       "7     0.0076\n",
       "8     0.0073\n",
       "9     0.0207\n",
       "10    0.0211\n",
       "Name: Inflação, dtype: float64"
      ]
     },
     "execution_count": 6,
     "metadata": {},
     "output_type": "execute_result"
    }
   ],
   "source": [
    "df_inflacao['Inflação']"
   ]
  },
  {
   "cell_type": "code",
   "execution_count": 7,
   "id": "f55ada49",
   "metadata": {},
   "outputs": [
    {
     "name": "stdout",
     "output_type": "stream",
     "text": [
      "['Solarize_Light2', '_classic_test_patch', 'bmh', 'classic', 'dark_background', 'fast', 'fivethirtyeight', 'ggplot', 'grayscale', 'seaborn', 'seaborn-bright', 'seaborn-colorblind', 'seaborn-dark', 'seaborn-dark-palette', 'seaborn-darkgrid', 'seaborn-deep', 'seaborn-muted', 'seaborn-notebook', 'seaborn-paper', 'seaborn-pastel', 'seaborn-poster', 'seaborn-talk', 'seaborn-ticks', 'seaborn-white', 'seaborn-whitegrid', 'tableau-colorblind10']\n"
     ]
    }
   ],
   "source": [
    "from matplotlib import style\n",
    "  \n",
    "print(plt.style.available)"
   ]
  },
  {
   "cell_type": "markdown",
   "id": "1556679c",
   "metadata": {},
   "source": [
    "## 1 - Fazer um gráfico com a variação anual do salário dos jogadores"
   ]
  },
  {
   "cell_type": "code",
   "execution_count": 8,
   "id": "0d622ee1",
   "metadata": {},
   "outputs": [
    {
     "data": {
      "image/png": "[encoded data removed]",
      "text/plain": [
       "<Figure size 1080x432 with 1 Axes>"
      ]
     },
     "metadata": {
      "needs_background": "light"
     },
     "output_type": "display_data"
    }
   ],
   "source": [
    "figura,ax = plt.subplots(figsize=(15,6))\n",
    "plt.style.use('tableau-colorblind10')\n",
    "x = df_acumulado['Ano']\n",
    "y = df_acumulado['Diferença']\n",
    "y_1 = df_inflacao['Inflação']\n",
    "grafico_linha = ax.plot(x,y,'r.-',label='Salary Rate') \n",
    "grafico_linha = ax.plot(x,y_1,'b.-',label='Inflation Rate')\n",
    "ax.set_title(\"Diff Salary vs Year\",{\"fontsize\":20})\n",
    "ax.set_xlabel(\"Year\",{\"fontsize\":15})\n",
    "ax.set_xticks(range(2007,2018)) #Colocando o tamanho do x tick\n",
    "ax.set_xticklabels(df_acumulado['Ano'].to_list()) #Colocando quem são os x tick\n",
    "plt.legend(title='Rates',fontsize=12)\n",
    "pd.set_option(\"display.precision\",2)"
   ]
  },
  {
   "cell_type": "markdown",
   "id": "63923f08",
   "metadata": {},
   "source": [
    "## 2 - Fazer um bloxplot com uma posição dos salários do jogadores."
   ]
  },
  {
   "cell_type": "code",
   "execution_count": 36,
   "id": "d00a04c9",
   "metadata": {},
   "outputs": [
    {
     "data": {
      "text/html": [
       "<div>\n",
       "<style scoped>\n",
       "    .dataframe tbody tr th:only-of-type {\n",
       "        vertical-align: middle;\n",
       "    }\n",
       "\n",
       "    .dataframe tbody tr th {\n",
       "        vertical-align: top;\n",
       "    }\n",
       "\n",
       "    .dataframe thead th {\n",
       "        text-align: right;\n",
       "    }\n",
       "</style>\n",
       "<table border=\"1\" class=\"dataframe\">\n",
       "  <thead>\n",
       "    <tr style=\"text-align: right;\">\n",
       "      <th></th>\n",
       "      <th>club</th>\n",
       "      <th>last_name</th>\n",
       "      <th>first_name</th>\n",
       "      <th>position</th>\n",
       "      <th>base_salary</th>\n",
       "      <th>guaranteed_compensation</th>\n",
       "      <th>Ano</th>\n",
       "    </tr>\n",
       "  </thead>\n",
       "  <tbody>\n",
       "    <tr>\n",
       "      <th>0</th>\n",
       "      <td>ATL</td>\n",
       "      <td>Almiron</td>\n",
       "      <td>Miguel</td>\n",
       "      <td>M</td>\n",
       "      <td>1.91e+06</td>\n",
       "      <td>2.30e+06</td>\n",
       "      <td>2017</td>\n",
       "    </tr>\n",
       "    <tr>\n",
       "      <th>1</th>\n",
       "      <td>ATL</td>\n",
       "      <td>Ambrose</td>\n",
       "      <td>Mikey</td>\n",
       "      <td>D</td>\n",
       "      <td>6.56e+04</td>\n",
       "      <td>6.56e+04</td>\n",
       "      <td>2017</td>\n",
       "    </tr>\n",
       "    <tr>\n",
       "      <th>2</th>\n",
       "      <td>ATL</td>\n",
       "      <td>Asad</td>\n",
       "      <td>Yamil</td>\n",
       "      <td>M</td>\n",
       "      <td>1.50e+05</td>\n",
       "      <td>1.50e+05</td>\n",
       "      <td>2017</td>\n",
       "    </tr>\n",
       "    <tr>\n",
       "      <th>3</th>\n",
       "      <td>ATL</td>\n",
       "      <td>Bloom</td>\n",
       "      <td>Mark</td>\n",
       "      <td>D</td>\n",
       "      <td>9.92e+04</td>\n",
       "      <td>1.07e+05</td>\n",
       "      <td>2017</td>\n",
       "    </tr>\n",
       "    <tr>\n",
       "      <th>4</th>\n",
       "      <td>ATL</td>\n",
       "      <td>Carleton</td>\n",
       "      <td>Andrew</td>\n",
       "      <td>F</td>\n",
       "      <td>6.50e+04</td>\n",
       "      <td>7.74e+04</td>\n",
       "      <td>2017</td>\n",
       "    </tr>\n",
       "    <tr>\n",
       "      <th>...</th>\n",
       "      <td>...</td>\n",
       "      <td>...</td>\n",
       "      <td>...</td>\n",
       "      <td>...</td>\n",
       "      <td>...</td>\n",
       "      <td>...</td>\n",
       "      <td>...</td>\n",
       "    </tr>\n",
       "    <tr>\n",
       "      <th>611</th>\n",
       "      <td>VAN</td>\n",
       "      <td>Tornaghi</td>\n",
       "      <td>Paolo</td>\n",
       "      <td>GK</td>\n",
       "      <td>8.00e+04</td>\n",
       "      <td>8.00e+04</td>\n",
       "      <td>2017</td>\n",
       "    </tr>\n",
       "    <tr>\n",
       "      <th>612</th>\n",
       "      <td>VAN</td>\n",
       "      <td>Waston</td>\n",
       "      <td>Kendall</td>\n",
       "      <td>D</td>\n",
       "      <td>3.50e+05</td>\n",
       "      <td>3.68e+05</td>\n",
       "      <td>2017</td>\n",
       "    </tr>\n",
       "    <tr>\n",
       "      <th>613</th>\n",
       "      <td>VAN</td>\n",
       "      <td>Williams</td>\n",
       "      <td>Sheanon</td>\n",
       "      <td>D</td>\n",
       "      <td>1.75e+05</td>\n",
       "      <td>1.84e+05</td>\n",
       "      <td>2017</td>\n",
       "    </tr>\n",
       "    <tr>\n",
       "      <th>614</th>\n",
       "      <td>NaN</td>\n",
       "      <td>Babouli</td>\n",
       "      <td>Mo</td>\n",
       "      <td>F</td>\n",
       "      <td>5.41e+04</td>\n",
       "      <td>5.41e+04</td>\n",
       "      <td>2017</td>\n",
       "    </tr>\n",
       "    <tr>\n",
       "      <th>615</th>\n",
       "      <td>NaN</td>\n",
       "      <td>Ramajo</td>\n",
       "      <td>David Mateos</td>\n",
       "      <td>D</td>\n",
       "      <td>4.20e+05</td>\n",
       "      <td>4.53e+05</td>\n",
       "      <td>2017</td>\n",
       "    </tr>\n",
       "  </tbody>\n",
       "</table>\n",
       "<p>616 rows × 7 columns</p>\n",
       "</div>"
      ],
      "text/plain": [
       "    club last_name    first_name position  base_salary  \\\n",
       "0    ATL   Almiron        Miguel        M     1.91e+06   \n",
       "1    ATL   Ambrose         Mikey        D     6.56e+04   \n",
       "2    ATL      Asad         Yamil        M     1.50e+05   \n",
       "3    ATL     Bloom          Mark        D     9.92e+04   \n",
       "4    ATL  Carleton        Andrew        F     6.50e+04   \n",
       "..   ...       ...           ...      ...          ...   \n",
       "611  VAN  Tornaghi         Paolo       GK     8.00e+04   \n",
       "612  VAN    Waston       Kendall        D     3.50e+05   \n",
       "613  VAN  Williams       Sheanon        D     1.75e+05   \n",
       "614  NaN   Babouli            Mo        F     5.41e+04   \n",
       "615  NaN    Ramajo  David Mateos        D     4.20e+05   \n",
       "\n",
       "     guaranteed_compensation   Ano  \n",
       "0                   2.30e+06  2017  \n",
       "1                   6.56e+04  2017  \n",
       "2                   1.50e+05  2017  \n",
       "3                   1.07e+05  2017  \n",
       "4                   7.74e+04  2017  \n",
       "..                       ...   ...  \n",
       "611                 8.00e+04  2017  \n",
       "612                 3.68e+05  2017  \n",
       "613                 1.84e+05  2017  \n",
       "614                 5.41e+04  2017  \n",
       "615                 4.53e+05  2017  \n",
       "\n",
       "[616 rows x 7 columns]"
      ]
     },
     "execution_count": 36,
     "metadata": {},
     "output_type": "execute_result"
    }
   ],
   "source": [
    "df_2017"
   ]
  },
  {
   "cell_type": "code",
   "execution_count": 39,
   "id": "509e5785",
   "metadata": {},
   "outputs": [
    {
     "data": {
      "text/plain": [
       "club                  VAN\n",
       "base_salary    10831536.5\n",
       "dtype: object"
      ]
     },
     "execution_count": 39,
     "metadata": {},
     "output_type": "execute_result"
    }
   ],
   "source": [
    "df_club = df_2017.groupby(\"club\").sum()\n",
    "\n",
    "df_forward = df_total[(df_total['position']==\"F\") & (df_total['Ano']==2017)]\n",
    "df_forward_club = df_forward.groupby(\"club\").sum()['base_salary'].reset_index()\n",
    "df_forward_club.max()"
   ]
  },
  {
   "cell_type": "code",
   "execution_count": 70,
   "id": "fc79d108",
   "metadata": {},
   "outputs": [
    {
     "data": {
      "text/plain": [
       "position\n",
       "D      3.08e+07\n",
       "D-M    1.89e+06\n",
       "F      5.34e+07\n",
       "F-M    2.02e+06\n",
       "F/M    1.25e+05\n",
       "GK     9.52e+06\n",
       "M      7.97e+07\n",
       "M-D    8.76e+05\n",
       "M-F    4.05e+06\n",
       "M/F    5.50e+05\n",
       "Name: base_salary, dtype: float64"
      ]
     },
     "execution_count": 70,
     "metadata": {},
     "output_type": "execute_result"
    }
   ],
   "source": [
    "pd.set_option(\"display.precision\",2)\n",
    "df_2017.groupby('position').sum()['base_salary']"
   ]
  },
  {
   "cell_type": "code",
   "execution_count": 44,
   "id": "30fc6c8f",
   "metadata": {},
   "outputs": [
    {
     "data": {
      "image/png": "[encoded data removed]",
      "text/plain": [
       "<Figure size 1080x432 with 1 Axes>"
      ]
     },
     "metadata": {
      "needs_background": "light"
     },
     "output_type": "display_data"
    }
   ],
   "source": [
    "fig,ax = plt.subplots(figsize=(15,6))\n",
    "data = [df_forward_club['base_salary'],df_club['base_salary']]\n",
    "ax.set_title(\"Salary vs Position\")\n",
    "ax.boxplot(data)\n",
    "ax.set_xticklabels(['Forward','Team'])\n",
    "pd.set_option(\"display.precision\",2)"
   ]
  },
  {
   "cell_type": "code",
   "execution_count": 26,
   "id": "5fac2e2e",
   "metadata": {},
   "outputs": [
    {
     "data": {
      "text/html": [
       "<div>\n",
       "<style scoped>\n",
       "    .dataframe tbody tr th:only-of-type {\n",
       "        vertical-align: middle;\n",
       "    }\n",
       "\n",
       "    .dataframe tbody tr th {\n",
       "        vertical-align: top;\n",
       "    }\n",
       "\n",
       "    .dataframe thead th {\n",
       "        text-align: right;\n",
       "    }\n",
       "</style>\n",
       "<table border=\"1\" class=\"dataframe\">\n",
       "  <thead>\n",
       "    <tr style=\"text-align: right;\">\n",
       "      <th></th>\n",
       "      <th>club</th>\n",
       "      <th>last_name</th>\n",
       "      <th>first_name</th>\n",
       "      <th>position</th>\n",
       "      <th>base_salary</th>\n",
       "      <th>guaranteed_compensation</th>\n",
       "      <th>Ano</th>\n",
       "    </tr>\n",
       "  </thead>\n",
       "  <tbody>\n",
       "    <tr>\n",
       "      <th>4</th>\n",
       "      <td>ATL</td>\n",
       "      <td>Carleton</td>\n",
       "      <td>Andrew</td>\n",
       "      <td>F</td>\n",
       "      <td>6.50e+04</td>\n",
       "      <td>7.74e+04</td>\n",
       "      <td>2017</td>\n",
       "    </tr>\n",
       "    <tr>\n",
       "      <th>11</th>\n",
       "      <td>ATL</td>\n",
       "      <td>Jones</td>\n",
       "      <td>Kenwyne</td>\n",
       "      <td>F</td>\n",
       "      <td>3.90e+05</td>\n",
       "      <td>4.13e+05</td>\n",
       "      <td>2017</td>\n",
       "    </tr>\n",
       "    <tr>\n",
       "      <th>16</th>\n",
       "      <td>ATL</td>\n",
       "      <td>Martinez</td>\n",
       "      <td>Josef</td>\n",
       "      <td>F</td>\n",
       "      <td>9.24e+05</td>\n",
       "      <td>1.04e+06</td>\n",
       "      <td>2017</td>\n",
       "    </tr>\n",
       "    <tr>\n",
       "      <th>21</th>\n",
       "      <td>ATL</td>\n",
       "      <td>Peterson</td>\n",
       "      <td>Jacob</td>\n",
       "      <td>F</td>\n",
       "      <td>1.65e+05</td>\n",
       "      <td>1.65e+05</td>\n",
       "      <td>2017</td>\n",
       "    </tr>\n",
       "    <tr>\n",
       "      <th>24</th>\n",
       "      <td>ATL</td>\n",
       "      <td>Rochez</td>\n",
       "      <td>Bryan</td>\n",
       "      <td>F</td>\n",
       "      <td>2.00e+05</td>\n",
       "      <td>2.80e+05</td>\n",
       "      <td>2017</td>\n",
       "    </tr>\n",
       "    <tr>\n",
       "      <th>...</th>\n",
       "      <td>...</td>\n",
       "      <td>...</td>\n",
       "      <td>...</td>\n",
       "      <td>...</td>\n",
       "      <td>...</td>\n",
       "      <td>...</td>\n",
       "      <td>...</td>\n",
       "    </tr>\n",
       "    <tr>\n",
       "      <th>570</th>\n",
       "      <td>TOR</td>\n",
       "      <td>Hamilton</td>\n",
       "      <td>Jordan</td>\n",
       "      <td>F</td>\n",
       "      <td>6.95e+04</td>\n",
       "      <td>8.20e+04</td>\n",
       "      <td>2017</td>\n",
       "    </tr>\n",
       "    <tr>\n",
       "      <th>579</th>\n",
       "      <td>TOR</td>\n",
       "      <td>Ricketts</td>\n",
       "      <td>Tosaint</td>\n",
       "      <td>F</td>\n",
       "      <td>1.80e+05</td>\n",
       "      <td>1.93e+05</td>\n",
       "      <td>2017</td>\n",
       "    </tr>\n",
       "    <tr>\n",
       "      <th>591</th>\n",
       "      <td>VAN</td>\n",
       "      <td>Greig</td>\n",
       "      <td>Kyle</td>\n",
       "      <td>F</td>\n",
       "      <td>6.50e+04</td>\n",
       "      <td>6.68e+04</td>\n",
       "      <td>2017</td>\n",
       "    </tr>\n",
       "    <tr>\n",
       "      <th>599</th>\n",
       "      <td>VAN</td>\n",
       "      <td>Montero</td>\n",
       "      <td>Fredy</td>\n",
       "      <td>F</td>\n",
       "      <td>1.40e+06</td>\n",
       "      <td>1.80e+06</td>\n",
       "      <td>2017</td>\n",
       "    </tr>\n",
       "    <tr>\n",
       "      <th>614</th>\n",
       "      <td>NaN</td>\n",
       "      <td>Babouli</td>\n",
       "      <td>Mo</td>\n",
       "      <td>F</td>\n",
       "      <td>5.41e+04</td>\n",
       "      <td>5.41e+04</td>\n",
       "      <td>2017</td>\n",
       "    </tr>\n",
       "  </tbody>\n",
       "</table>\n",
       "<p>109 rows × 7 columns</p>\n",
       "</div>"
      ],
      "text/plain": [
       "    club last_name first_name position  base_salary  guaranteed_compensation  \\\n",
       "4    ATL  Carleton     Andrew        F     6.50e+04                 7.74e+04   \n",
       "11   ATL     Jones    Kenwyne        F     3.90e+05                 4.13e+05   \n",
       "16   ATL  Martinez      Josef        F     9.24e+05                 1.04e+06   \n",
       "21   ATL  Peterson      Jacob        F     1.65e+05                 1.65e+05   \n",
       "24   ATL    Rochez      Bryan        F     2.00e+05                 2.80e+05   \n",
       "..   ...       ...        ...      ...          ...                      ...   \n",
       "570  TOR  Hamilton     Jordan        F     6.95e+04                 8.20e+04   \n",
       "579  TOR  Ricketts    Tosaint        F     1.80e+05                 1.93e+05   \n",
       "591  VAN     Greig       Kyle        F     6.50e+04                 6.68e+04   \n",
       "599  VAN   Montero      Fredy        F     1.40e+06                 1.80e+06   \n",
       "614  NaN   Babouli         Mo        F     5.41e+04                 5.41e+04   \n",
       "\n",
       "      Ano  \n",
       "4    2017  \n",
       "11   2017  \n",
       "16   2017  \n",
       "21   2017  \n",
       "24   2017  \n",
       "..    ...  \n",
       "570  2017  \n",
       "579  2017  \n",
       "591  2017  \n",
       "599  2017  \n",
       "614  2017  \n",
       "\n",
       "[109 rows x 7 columns]"
      ]
     },
     "execution_count": 26,
     "metadata": {},
     "output_type": "execute_result"
    }
   ],
   "source": [
    "pd.set_option(\"display.precision\",2)\n",
    "\n",
    "df_forward"
   ]
  },
  {
   "cell_type": "markdown",
   "id": "9d380e9c",
   "metadata": {},
   "source": [
    "##  3- Fazer um gráfico com o salário por time em 2017"
   ]
  },
  {
   "cell_type": "code",
   "execution_count": 69,
   "id": "09c3a704",
   "metadata": {},
   "outputs": [
    {
     "data": {
      "text/plain": [
       "<BarContainer object of 23 artists>"
      ]
     },
     "execution_count": 69,
     "metadata": {},
     "output_type": "execute_result"
    },
    {
     "data": {
      "image/png": "[encoded data removed]",
      "text/plain": [
       "<Figure size 1080x432 with 1 Axes>"
      ]
     },
     "metadata": {
      "needs_background": "light"
     },
     "output_type": "display_data"
    }
   ],
   "source": [
    "df_club_2017 = df_2017.groupby('club').sum()['base_salary'].reset_index().sort_values(by='base_salary')\n",
    "plt.style.use('tableau-colorblind10')\n",
    "fig,ax=plt.subplots(figsize=(15,6))\n",
    "ax.set_title(\"Club´s Salary 2017\",{'fontsize':20})\n",
    "plt.xticks(rotation=45)\n",
    "ax.bar(df_club_2017['club'],df_club_2017['base_salary'],alpha=0.5,color='r')"
   ]
  },
  {
   "cell_type": "markdown",
   "id": "02de74f1",
   "metadata": {},
   "source": [
    "## 4 - Buscar o campeão de cada ano e tentar fazer um paralelo com o salário\n"
   ]
  },
  {
   "cell_type": "code",
   "execution_count": 125,
   "id": "42822d01",
   "metadata": {},
   "outputs": [],
   "source": [
    "df_campeoes\n",
    "df_campeoes = df_campeoes.rename(columns={\"MLS Cup\":\"club\"})"
   ]
  },
  {
   "cell_type": "code",
   "execution_count": 126,
   "id": "c3d02716",
   "metadata": {},
   "outputs": [
    {
     "data": {
      "text/html": [
       "<div>\n",
       "<style scoped>\n",
       "    .dataframe tbody tr th:only-of-type {\n",
       "        vertical-align: middle;\n",
       "    }\n",
       "\n",
       "    .dataframe tbody tr th {\n",
       "        vertical-align: top;\n",
       "    }\n",
       "\n",
       "    .dataframe thead th {\n",
       "        text-align: right;\n",
       "    }\n",
       "</style>\n",
       "<table border=\"1\" class=\"dataframe\">\n",
       "  <thead>\n",
       "    <tr style=\"text-align: right;\">\n",
       "      <th></th>\n",
       "      <th>Ano</th>\n",
       "      <th>club</th>\n",
       "    </tr>\n",
       "  </thead>\n",
       "  <tbody>\n",
       "    <tr>\n",
       "      <th>0</th>\n",
       "      <td>2007</td>\n",
       "      <td>HOU</td>\n",
       "    </tr>\n",
       "    <tr>\n",
       "      <th>1</th>\n",
       "      <td>2008</td>\n",
       "      <td>CLB</td>\n",
       "    </tr>\n",
       "    <tr>\n",
       "      <th>2</th>\n",
       "      <td>2009</td>\n",
       "      <td>RSL</td>\n",
       "    </tr>\n",
       "    <tr>\n",
       "      <th>3</th>\n",
       "      <td>2010</td>\n",
       "      <td>COL</td>\n",
       "    </tr>\n",
       "    <tr>\n",
       "      <th>4</th>\n",
       "      <td>2011</td>\n",
       "      <td>LA</td>\n",
       "    </tr>\n",
       "    <tr>\n",
       "      <th>5</th>\n",
       "      <td>2012</td>\n",
       "      <td>LA</td>\n",
       "    </tr>\n",
       "    <tr>\n",
       "      <th>6</th>\n",
       "      <td>2013</td>\n",
       "      <td>KC</td>\n",
       "    </tr>\n",
       "    <tr>\n",
       "      <th>7</th>\n",
       "      <td>2014</td>\n",
       "      <td>LA</td>\n",
       "    </tr>\n",
       "    <tr>\n",
       "      <th>8</th>\n",
       "      <td>2015</td>\n",
       "      <td>POR</td>\n",
       "    </tr>\n",
       "    <tr>\n",
       "      <th>9</th>\n",
       "      <td>2016</td>\n",
       "      <td>SEA</td>\n",
       "    </tr>\n",
       "    <tr>\n",
       "      <th>10</th>\n",
       "      <td>2017</td>\n",
       "      <td>TOR</td>\n",
       "    </tr>\n",
       "  </tbody>\n",
       "</table>\n",
       "</div>"
      ],
      "text/plain": [
       "     Ano club\n",
       "0   2007  HOU\n",
       "1   2008  CLB\n",
       "2   2009  RSL\n",
       "3   2010  COL\n",
       "4   2011   LA\n",
       "5   2012   LA\n",
       "6   2013   KC\n",
       "7   2014   LA\n",
       "8   2015  POR\n",
       "9   2016  SEA\n",
       "10  2017  TOR"
      ]
     },
     "execution_count": 126,
     "metadata": {},
     "output_type": "execute_result"
    }
   ],
   "source": [
    "df_campeoes = df_campeoes[['Ano','club']]\n",
    "\n",
    "df_campeoes "
   ]
  },
  {
   "cell_type": "code",
   "execution_count": 127,
   "id": "71a7c1be",
   "metadata": {},
   "outputs": [],
   "source": [
    "df_campeoes_salary = pd.merge(df_campeoes,df_total,on=['Ano','club'],how='left')"
   ]
  },
  {
   "cell_type": "code",
   "execution_count": 128,
   "id": "e08a1264",
   "metadata": {},
   "outputs": [],
   "source": [
    "df_campeoes_salary = df_campeoes_salary.groupby([\"club\",'Ano']).sum()['base_salary'].reset_index().sort_values(by='Ano')"
   ]
  },
  {
   "cell_type": "code",
   "execution_count": 129,
   "id": "cce96ff0",
   "metadata": {},
   "outputs": [],
   "source": [
    "df_campeoes_salary.set_index(\"Ano\",inplace=True)"
   ]
  },
  {
   "cell_type": "code",
   "execution_count": 130,
   "id": "f8c3ac00",
   "metadata": {},
   "outputs": [
    {
     "name": "stderr",
     "output_type": "stream",
     "text": [
      "<ipython-input-130-444110656028>:2: FutureWarning: Dropping invalid columns in DataFrameGroupBy.max is deprecated. In a future version, a TypeError will be raised. Before calling .max, select only columns which should be valid for the function.\n",
      "  df_max = df_total.groupby(\"Ano\").max()['base_salary']\n",
      "<ipython-input-130-444110656028>:3: FutureWarning: Dropping invalid columns in DataFrameGroupBy.min is deprecated. In a future version, a TypeError will be raised. Before calling .min, select only columns which should be valid for the function.\n",
      "  df_min = df_total.groupby(\"Ano\").min()['base_salary']\n"
     ]
    }
   ],
   "source": [
    "df_media = df_total.groupby(\"Ano\").median()['base_salary']\n",
    "df_max = df_total.groupby(\"Ano\").max()['base_salary']\n",
    "df_min = df_total.groupby(\"Ano\").min()['base_salary']"
   ]
  },
  {
   "cell_type": "code",
   "execution_count": 131,
   "id": "3ef9f751",
   "metadata": {},
   "outputs": [],
   "source": [
    "df_media=pd.DataFrame(df_media)\n",
    "df_max=pd.DataFrame(df_max)\n",
    "df_min=pd.DataFrame(df_min)"
   ]
  },
  {
   "cell_type": "code",
   "execution_count": 132,
   "id": "21d10654",
   "metadata": {},
   "outputs": [],
   "source": [
    "df_campeoes_salary_comparison = pd.concat([df_campeoes_salary,df_media,df_max,df_min],axis=1)"
   ]
  },
  {
   "cell_type": "code",
   "execution_count": 141,
   "id": "a7f89cc6",
   "metadata": {},
   "outputs": [],
   "source": [
    "df_campeoes_salary_comparison.columns=['Club','Champion Salary','Median Salary','Max Salary','Min Salary']"
   ]
  },
  {
   "cell_type": "code",
   "execution_count": 142,
   "id": "cfceb81c",
   "metadata": {},
   "outputs": [
    {
     "data": {
      "text/html": [
       "<div>\n",
       "<style scoped>\n",
       "    .dataframe tbody tr th:only-of-type {\n",
       "        vertical-align: middle;\n",
       "    }\n",
       "\n",
       "    .dataframe tbody tr th {\n",
       "        vertical-align: top;\n",
       "    }\n",
       "\n",
       "    .dataframe thead th {\n",
       "        text-align: right;\n",
       "    }\n",
       "</style>\n",
       "<table border=\"1\" class=\"dataframe\">\n",
       "  <thead>\n",
       "    <tr style=\"text-align: right;\">\n",
       "      <th></th>\n",
       "      <th>Club</th>\n",
       "      <th>Champion Salary</th>\n",
       "      <th>Median Salary</th>\n",
       "      <th>Max Salary</th>\n",
       "      <th>Min Salary</th>\n",
       "    </tr>\n",
       "    <tr>\n",
       "      <th>Ano</th>\n",
       "      <th></th>\n",
       "      <th></th>\n",
       "      <th></th>\n",
       "      <th></th>\n",
       "      <th></th>\n",
       "    </tr>\n",
       "  </thead>\n",
       "  <tbody>\n",
       "    <tr>\n",
       "      <th>2007</th>\n",
       "      <td>HOU</td>\n",
       "      <td>2.35e+06</td>\n",
       "      <td>45050.25</td>\n",
       "      <td>5.50e+06</td>\n",
       "      <td>12900.00</td>\n",
       "    </tr>\n",
       "    <tr>\n",
       "      <th>2008</th>\n",
       "      <td>CLB</td>\n",
       "      <td>2.09e+06</td>\n",
       "      <td>46702.50</td>\n",
       "      <td>5.50e+06</td>\n",
       "      <td>12900.00</td>\n",
       "    </tr>\n",
       "    <tr>\n",
       "      <th>2009</th>\n",
       "      <td>RSL</td>\n",
       "      <td>1.95e+06</td>\n",
       "      <td>65000.00</td>\n",
       "      <td>5.50e+06</td>\n",
       "      <td>15300.00</td>\n",
       "    </tr>\n",
       "    <tr>\n",
       "      <th>2010</th>\n",
       "      <td>COL</td>\n",
       "      <td>2.43e+06</td>\n",
       "      <td>75000.00</td>\n",
       "      <td>5.54e+06</td>\n",
       "      <td>31250.04</td>\n",
       "    </tr>\n",
       "    <tr>\n",
       "      <th>2011</th>\n",
       "      <td>LA</td>\n",
       "      <td>1.28e+07</td>\n",
       "      <td>67500.00</td>\n",
       "      <td>5.50e+06</td>\n",
       "      <td>32600.00</td>\n",
       "    </tr>\n",
       "    <tr>\n",
       "      <th>2012</th>\n",
       "      <td>LA</td>\n",
       "      <td>1.08e+07</td>\n",
       "      <td>74260.00</td>\n",
       "      <td>5.00e+06</td>\n",
       "      <td>33750.00</td>\n",
       "    </tr>\n",
       "    <tr>\n",
       "      <th>2013</th>\n",
       "      <td>KC</td>\n",
       "      <td>3.21e+06</td>\n",
       "      <td>75000.00</td>\n",
       "      <td>4.91e+06</td>\n",
       "      <td>35125.00</td>\n",
       "    </tr>\n",
       "    <tr>\n",
       "      <th>2014</th>\n",
       "      <td>LA</td>\n",
       "      <td>1.24e+07</td>\n",
       "      <td>80000.00</td>\n",
       "      <td>6.66e+06</td>\n",
       "      <td>36500.00</td>\n",
       "    </tr>\n",
       "    <tr>\n",
       "      <th>2015</th>\n",
       "      <td>POR</td>\n",
       "      <td>5.75e+06</td>\n",
       "      <td>100000.00</td>\n",
       "      <td>6.66e+06</td>\n",
       "      <td>50000.00</td>\n",
       "    </tr>\n",
       "    <tr>\n",
       "      <th>2016</th>\n",
       "      <td>SEA</td>\n",
       "      <td>9.48e+06</td>\n",
       "      <td>108900.00</td>\n",
       "      <td>6.66e+06</td>\n",
       "      <td>51492.00</td>\n",
       "    </tr>\n",
       "    <tr>\n",
       "      <th>2017</th>\n",
       "      <td>TOR</td>\n",
       "      <td>2.01e+07</td>\n",
       "      <td>125000.00</td>\n",
       "      <td>6.66e+06</td>\n",
       "      <td>52999.92</td>\n",
       "    </tr>\n",
       "  </tbody>\n",
       "</table>\n",
       "</div>"
      ],
      "text/plain": [
       "     Club  Champion Salary  Median Salary  Max Salary  Min Salary\n",
       "Ano                                                              \n",
       "2007  HOU         2.35e+06       45050.25    5.50e+06    12900.00\n",
       "2008  CLB         2.09e+06       46702.50    5.50e+06    12900.00\n",
       "2009  RSL         1.95e+06       65000.00    5.50e+06    15300.00\n",
       "2010  COL         2.43e+06       75000.00    5.54e+06    31250.04\n",
       "2011   LA         1.28e+07       67500.00    5.50e+06    32600.00\n",
       "2012   LA         1.08e+07       74260.00    5.00e+06    33750.00\n",
       "2013   KC         3.21e+06       75000.00    4.91e+06    35125.00\n",
       "2014   LA         1.24e+07       80000.00    6.66e+06    36500.00\n",
       "2015  POR         5.75e+06      100000.00    6.66e+06    50000.00\n",
       "2016  SEA         9.48e+06      108900.00    6.66e+06    51492.00\n",
       "2017  TOR         2.01e+07      125000.00    6.66e+06    52999.92"
      ]
     },
     "execution_count": 142,
     "metadata": {},
     "output_type": "execute_result"
    }
   ],
   "source": [
    "df_campeoes_salary_comparison"
   ]
  },
  {
   "cell_type": "code",
   "execution_count": 158,
   "id": "cce6368d",
   "metadata": {},
   "outputs": [
    {
     "data": {
      "text/plain": [
       "<BarContainer object of 11 artists>"
      ]
     },
     "execution_count": 158,
     "metadata": {},
     "output_type": "execute_result"
    },
    {
     "data": {
      "image/png": "[encoded data removed]",
      "text/plain": [
       "<Figure size 1080x432 with 1 Axes>"
      ]
     },
     "metadata": {
      "needs_background": "light"
     },
     "output_type": "display_data"
    }
   ],
   "source": [
    "plt.style.use('tableau-colorblind10')\n",
    "x= df_campeoes_salary_comparison.index\n",
    "fig,ax=plt.subplots(figsize=(15,6))\n",
    "ax.bar(x=df_campeoes_salary_comparison.index,height=df_campeoes_salary_comparison['Champion Salary'],width = 0.25,color='r')\n",
    "ax.bar(x=df_campeoes_salary_comparison.index,height=df_campeoes_salary_comparison['Median Salary'],width = 0.25,color='g')\n",
    "ax.bar(x=df_campeoes_salary_comparison.index,height=df_campeoes_salary_comparison['Max Salary'],width = 0.25,color='y')\n",
    "ax.bar(x=df_campeoes_salary_comparison.index,height=df_campeoes_salary_comparison['Min Salary'],width = 0.25,color='b')"
   ]
  },
  {
   "cell_type": "code",
   "execution_count": null,
   "id": "34375570",
   "metadata": {},
   "outputs": [],
   "source": []
  }
 ],
 "metadata": {
  "kernelspec": {
   "display_name": "Python 3",
   "language": "python",
   "name": "python3"
  },
  "language_info": {
   "codemirror_mode": {
    "name": "ipython",
    "version": 3
   },
   "file_extension": ".py",
   "mimetype": "text/x-python",
   "name": "python",
   "nbconvert_exporter": "python",
   "pygments_lexer": "ipython3",
   "version": "3.8.8"
  }
 },
 "nbformat": 4,
 "nbformat_minor": 5
}
